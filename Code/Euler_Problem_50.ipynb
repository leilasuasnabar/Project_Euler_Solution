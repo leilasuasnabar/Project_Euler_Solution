{
 "cells": [
  {
   "cell_type": "markdown",
   "metadata": {},
   "source": [
    "***\n",
    "### Consecutive Prime Sum\n",
    "***\n",
    "Solution to:\n",
    "https://projecteuler.net/problem=50"
   ]
  },
  {
   "cell_type": "code",
   "execution_count": 1,
   "metadata": {},
   "outputs": [],
   "source": [
    "import pandas as pd\n",
    "import numpy as np\n",
    "import time"
   ]
  },
  {
   "cell_type": "code",
   "execution_count": 2,
   "metadata": {},
   "outputs": [],
   "source": [
    "#Obtain prime numbers up to N\n",
    "# Using Sieve the Eratosthenes: O(NloglogN)\n",
    "\n",
    "# Algorithm implemented with pandas\n",
    "def get_primes_pandas(N):\n",
    "    df = pd.DataFrame({'IsPrime':np.ones(N)})\n",
    "    df.IsPrime = df.IsPrime.astype(np.int8)\n",
    "    df.drop([0,1],inplace=True)\n",
    "    \n",
    "    primes = []\n",
    "    check = 2\n",
    "    while check*check<=N:\n",
    "        df = df.loc[df['IsPrime']==1,:]\n",
    "        check = df.index[0]\n",
    "\n",
    "        primes.append(check)\n",
    "        df.loc[df.index%check==0]=0\n",
    "      \n",
    "    # Contains remaining primes, from the second element\n",
    "    indexes = list(df.index)\n",
    "    del df\n",
    "    return primes+indexes[1:]"
   ]
  },
  {
   "cell_type": "code",
   "execution_count": 3,
   "metadata": {},
   "outputs": [],
   "source": [
    "# Same algorithm, implemented with lists\n",
    "def get_primes(N):\n",
    "    IsPrime = [1 for i in range(N+1)]\n",
    "    \n",
    "    primes = []\n",
    "    check = 2\n",
    "    while check*check<=N:\n",
    "        if IsPrime[check]:\n",
    "            primes.append(check)\n",
    "            # Increment by check\n",
    "            for i in range(check*check,N+1,check):\n",
    "                IsPrime[i]=0\n",
    "        check+=1\n",
    "\n",
    "    # Store all remaining primes in an array\n",
    "    for num in range(check,N):\n",
    "        if IsPrime[num]:\n",
    "            primes.append(num)\n",
    "    del IsPrime\n",
    "    return primes"
   ]
  },
  {
   "cell_type": "code",
   "execution_count": 4,
   "metadata": {},
   "outputs": [],
   "source": [
    "# Variable\n",
    "N=1000000"
   ]
  },
  {
   "cell_type": "code",
   "execution_count": 5,
   "metadata": {},
   "outputs": [
    {
     "name": "stdout",
     "output_type": "stream",
     "text": [
      "CPU times: user 656 ms, sys: 33.6 ms, total: 690 ms\n",
      "Wall time: 694 ms\n"
     ]
    }
   ],
   "source": [
    "%time primes_pandas = get_primes_pandas(N)"
   ]
  },
  {
   "cell_type": "code",
   "execution_count": 6,
   "metadata": {},
   "outputs": [
    {
     "name": "stdout",
     "output_type": "stream",
     "text": [
      "CPU times: user 232 ms, sys: 6.53 ms, total: 239 ms\n",
      "Wall time: 238 ms\n"
     ]
    }
   ],
   "source": [
    "%time primes = get_primes(N)"
   ]
  },
  {
   "cell_type": "markdown",
   "metadata": {},
   "source": [
    "#### Using faster method:\n",
    " get_primes"
   ]
  },
  {
   "cell_type": "code",
   "execution_count": 7,
   "metadata": {},
   "outputs": [],
   "source": [
    "def sum_consecutive(prime_list,N):\n",
    "\n",
    "    primes = prime_list.copy()\n",
    "    # Longest sequence added that is < N\n",
    "    # Sum of first X primes >> Sum of first X even numbers = N(N+1)\n",
    "    \n",
    "    max_slide = int(np.round(N**.5))\n",
    "    # A sum of sequence that starts with 2, can only have a even length \n",
    "    # to produce an odd number (possibly prime)\n",
    "    max_slide -= max_slide%2   \n",
    "    \n",
    "    max_sum = np.sum(primes[:max_slide])\n",
    "    first_prime = primes[0]\n",
    "         \n",
    "    # Get the max sum (prime or not) that is <= the highest prime < N\n",
    "    while max_sum >= primes[-1]:\n",
    "        max_slide-=2\n",
    "        max_sum-=(primes[max_slide]+primes[max_slide-1])\n",
    "    \n",
    "    # Sequence starting with first element: 2\n",
    "    # Get the max sum that is a prime, with a sequence starting with 2\n",
    "    while max_sum not in primes:\n",
    "        max_slide -= 2\n",
    "        max_sum = np.sum(primes[:max_slide])\n",
    "        \n",
    "    # Check other primes\n",
    "    check = True\n",
    "\n",
    "    # Save max slide when sequence starts with 2\n",
    "    max_slide_even_prime = max_slide\n",
    "    \n",
    "    # Check for sequences starting with other primes\n",
    "    max_slide+=1\n",
    "    \n",
    "    while check:\n",
    "        primes.pop(0) #Remove first element\n",
    "\n",
    "        # Check if must continue checking\n",
    "        if np.sum(primes[:max_slide])>primes[-1]:\n",
    "            check = False\n",
    "        \n",
    "        slide, sum_slide, first_element = find_slide(max_slide,primes)\n",
    "        \n",
    "        # Update longest slide and its sum\n",
    "        if slide>max_slide:\n",
    "            max_slide = slide\n",
    "            if sum_slide:\n",
    "                max_sum = sum_slide\n",
    "                first_prime = first_element\n",
    "\n",
    "    if first_prime==2:\n",
    "        return max_slide_even_prime, max_sum, first_prime\n",
    "    else:\n",
    "        return max_slide, max_sum, first_prime\n",
    "\n",
    "\n",
    "def find_slide(slide,primes):\n",
    "    \n",
    "    # Check only on any longer sequences\n",
    "    # Increase slide by 2 since for a sum of even amount of prime numbers\n",
    "    # will result in an even number (not prime)\n",
    "    sum_prime = np.sum(primes[:slide+2])\n",
    "    \n",
    "    max_sum = None\n",
    "    max_slide = slide\n",
    "    first_element = None\n",
    "    \n",
    "\n",
    "    #Only check while sum < max # prime\n",
    "    while sum_prime<=primes[-1]:         \n",
    "        slide+=2\n",
    "        # Update variables if necessary\n",
    "        if sum_prime in primes:\n",
    "            max_slide = slide\n",
    "            max_sum = sum_prime\n",
    "            first_element = primes[0]\n",
    "        \n",
    "        sum_prime = np.sum(primes[:slide+2])\n",
    "      \n",
    "    return max_slide, max_sum, first_element"
   ]
  },
  {
   "cell_type": "code",
   "execution_count": 8,
   "metadata": {},
   "outputs": [
    {
     "name": "stdout",
     "output_type": "stream",
     "text": [
      "CPU times: user 174 ms, sys: 2.02 ms, total: 176 ms\n",
      "Wall time: 174 ms\n"
     ]
    }
   ],
   "source": [
    "# Max_slide refers to the longest sequence found\n",
    "%time max_slide, prime_sum, first = sum_consecutive(primes,N)"
   ]
  },
  {
   "cell_type": "code",
   "execution_count": 9,
   "metadata": {},
   "outputs": [
    {
     "name": "stdout",
     "output_type": "stream",
     "text": [
      "The longest sequence contains 543 primes, and its sum/prime is 997651\n",
      "Sequence starts with prime:  7\n"
     ]
    }
   ],
   "source": [
    "print('The longest sequence contains {0} primes, and its sum/prime is {1}'.format(max_slide,prime_sum))\n",
    "print('Sequence starts with prime: ',first)"
   ]
  },
  {
   "cell_type": "markdown",
   "metadata": {},
   "source": [
    "***Prime 7 is at position primes[3]***\n",
    "\n",
    "[2,3,5,7,11,...]\n",
    "\n",
    "     ^\n",
    "     |\n",
    "\n",
    "Double checking the sequence sum is a prime and matches with previous result"
   ]
  },
  {
   "cell_type": "code",
   "execution_count": 10,
   "metadata": {},
   "outputs": [
    {
     "name": "stdout",
     "output_type": "stream",
     "text": [
      "997651 is a prime!\n"
     ]
    }
   ],
   "source": [
    "index = primes.index(first)\n",
    "max_prime_sum = np.sum(primes[index:index+max_slide])\n",
    "\n",
    "if max_prime_sum in primes and max_prime_sum==prime_sum:\n",
    "    print('{} is a prime!'.format(prime_sum))\n",
    "else:\n",
    "    print('{} is not a prime!'.format(prime_sum))"
   ]
  }
 ],
 "metadata": {
  "kernelspec": {
   "display_name": "Python 3",
   "language": "python",
   "name": "python3"
  },
  "language_info": {
   "codemirror_mode": {
    "name": "ipython",
    "version": 3
   },
   "file_extension": ".py",
   "mimetype": "text/x-python",
   "name": "python",
   "nbconvert_exporter": "python",
   "pygments_lexer": "ipython3",
   "version": "3.7.7"
  }
 },
 "nbformat": 4,
 "nbformat_minor": 4
}
